{
 "cells": [
  {
   "cell_type": "code",
   "execution_count": 1,
   "metadata": {
    "collapsed": true
   },
   "outputs": [],
   "source": [
    "import numpy as np\n",
    "import matplotlib.pyplot as plt\n",
    "%matplotlib inline"
   ]
  },
  {
   "cell_type": "code",
   "execution_count": 2,
   "metadata": {
    "collapsed": false
   },
   "outputs": [
    {
     "name": "stdout",
     "output_type": "stream",
     "text": [
      "[  4.   6.   8.  11.]\n"
     ]
    },
    {
     "data": {
      "text/plain": [
       "<matplotlib.legend.Legend at 0x10c240590>"
      ]
     },
     "execution_count": 2,
     "metadata": {},
     "output_type": "execute_result"
    },
    {
     "data": {
      "image/png": "[encoded data removed]",
      "text/plain": [
       "<matplotlib.figure.Figure at 0x109e4bf50>"
      ]
     },
     "metadata": {},
     "output_type": "display_data"
    }
   ],
   "source": [
    "a = np.array([1.,2.,3.,5.])\n",
    "b = np.array([3.,4.,5.,6.])\n",
    "c = a + b\n",
    "print c\n",
    "plt.figure(figsize=(10,4))\n",
    "plt.subplot(121)\n",
    "plt.plot(a,b)\n",
    "plt.subplot(122)\n",
    "plt.plot(a,c, color='black', linestyle='dashed', linewidth=2, label = 'c')\n",
    "plt.plot(a,b,'b-.', label ='b')\n",
    "\n",
    "\n",
    "plt.legend(loc=0, fontsize='small')"
   ]
  },
  {
   "cell_type": "code",
   "execution_count": 3,
   "metadata": {
    "collapsed": true
   },
   "outputs": [],
   "source": [
    "plt.plot?\n",
    "\n",
    "# This tells you about the function. If you are unsure what the function does you can do this\n",
    "# The other option is if you dont want to run the cell then type the name of the function and then press Shift + Tab"
   ]
  },
  {
   "cell_type": "markdown",
   "metadata": {},
   "source": [
    "# Header#\n",
    "Here is a sample markdown\n",
    "## Subheader##\n",
    "Here we talk about what we are trying to do\n",
    "### sub sub header###\n",
    "And so on\n",
    "\n",
    "In order to insert maths \n",
    "lets just write \n",
    "$$i h \\frac{\\partial }{\\partial t} \\Psi (r,t) = \\left[-\\frac{h^2}{2\\mu} {\\nabla}^2  + V(r,t)\\right] \\Psi (r,t) $$"
   ]
  },
  {
   "cell_type": "code",
   "execution_count": 4,
   "metadata": {
    "collapsed": true
   },
   "outputs": [],
   "source": [
    "def root_mean_square(a,b, options='root'):\n",
    "    \"\"\"A function to compute the root mean square \n",
    "    you can output either the root or the sum of squares. The default is root \"\"\"\n",
    "    if options=='square':\n",
    "        c = a**2+b**2\n",
    "    else:\n",
    "        c = np.sqrt(a**2+b**2)\n",
    "    return c"
   ]
  },
  {
   "cell_type": "markdown",
   "metadata": {},
   "source": [
    "A simple function to demonstrate what arguments and keyword arguments are"
   ]
  },
  {
   "cell_type": "code",
   "execution_count": 5,
   "metadata": {
    "collapsed": true
   },
   "outputs": [],
   "source": [
    "root_mean_square?"
   ]
  },
  {
   "cell_type": "code",
   "execution_count": 6,
   "metadata": {
    "collapsed": false
   },
   "outputs": [
    {
     "data": {
      "text/plain": [
       "array([ 3.16227766,  4.47213595,  5.83095189,  7.81024968])"
      ]
     },
     "execution_count": 6,
     "metadata": {},
     "output_type": "execute_result"
    }
   ],
   "source": [
    "root_mean_square(a,b)"
   ]
  },
  {
   "cell_type": "code",
   "execution_count": 7,
   "metadata": {
    "collapsed": false
   },
   "outputs": [
    {
     "data": {
      "text/plain": [
       "array([ 10.,  20.,  34.,  61.])"
      ]
     },
     "execution_count": 7,
     "metadata": {},
     "output_type": "execute_result"
    }
   ],
   "source": [
    "root_mean_square(a,b,options='square')"
   ]
  },
  {
   "cell_type": "code",
   "execution_count": null,
   "metadata": {
    "collapsed": true
   },
   "outputs": [],
   "source": []
  }
 ],
 "metadata": {
  "gist_id": "2ee5ef707fabf0995a66568ebb9c2d08",
  "kernelspec": {
   "display_name": "Python 2",
   "language": "python",
   "name": "python2"
  },
  "language_info": {
   "codemirror_mode": {
    "name": "ipython",
    "version": 2
   },
   "file_extension": ".py",
   "mimetype": "text/x-python",
   "name": "python",
   "nbconvert_exporter": "python",
   "pygments_lexer": "ipython2",
   "version": "2.7.11"
  }
 },
 "nbformat": 4,
 "nbformat_minor": 0
}
